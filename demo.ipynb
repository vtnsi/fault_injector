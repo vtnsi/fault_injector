{
 "cells": [
  {
   "cell_type": "code",
   "execution_count": null,
   "metadata": {},
   "outputs": [],
   "source": [
    "import fault_injector.generate_data as gd\n",
    "import fault_injector.injector as injector\n",
    "import fault_injector.data_frame_injector as df_injector\n",
    "import pandas as pd"
   ]
  },
  {
   "cell_type": "markdown",
   "metadata": {},
   "source": [
    "## Generate Data"
   ]
  },
  {
   "cell_type": "code",
   "execution_count": null,
   "metadata": {},
   "outputs": [],
   "source": [
    "rand_max = 0.52\n",
    "rand_min = 0.48\n",
    "size = 500"
   ]
  },
  {
   "cell_type": "code",
   "execution_count": null,
   "metadata": {},
   "outputs": [],
   "source": [
    "gen1 = gd.DataGen(rand_max, rand_min, size)"
   ]
  },
  {
   "cell_type": "code",
   "execution_count": null,
   "metadata": {},
   "outputs": [],
   "source": [
    "gen1.random_gen()"
   ]
  },
  {
   "cell_type": "code",
   "execution_count": null,
   "metadata": {},
   "outputs": [],
   "source": [
    "gen1.plot_values()"
   ]
  },
  {
   "cell_type": "markdown",
   "metadata": {},
   "source": [
    "## Inject Fault into Generated Data\n",
    "### Inject Drift"
   ]
  },
  {
   "cell_type": "code",
   "execution_count": null,
   "metadata": {},
   "outputs": [],
   "source": [
    "# random start and stop\n",
    "fault1 = injector.FaultInjection(values=gen1.values, start=\"random\", stop=\"random\", increasing=1)\n",
    "fault1.inject_drift()\n",
    "fault1.plot_compare_values()"
   ]
  },
  {
   "cell_type": "code",
   "execution_count": null,
   "metadata": {},
   "outputs": [],
   "source": [
    "# start and stop set to None\n",
    "fault1 = injector.FaultInjection(values=gen1.values, start=None, stop=None, increasing=1)\n",
    "fault1.inject_drift()\n",
    "fault1.plot_compare_values()"
   ]
  },
  {
   "cell_type": "code",
   "execution_count": null,
   "metadata": {},
   "outputs": [],
   "source": [
    "fault1 = injector.FaultInjection(values=gen1.values, start=100, stop=400, increasing=1)\n",
    "fault1.inject_drift()\n",
    "fault1.plot_compare_values()"
   ]
  },
  {
   "cell_type": "code",
   "execution_count": null,
   "metadata": {},
   "outputs": [],
   "source": [
    "# specify drift rate\n",
    "fault1.reset_values()\n",
    "fault1.inject_drift(drift_rate=0.00025)\n",
    "fault1.plot_compare_values()"
   ]
  },
  {
   "cell_type": "markdown",
   "metadata": {},
   "source": [
    "### Inject Offset"
   ]
  },
  {
   "cell_type": "code",
   "execution_count": null,
   "metadata": {},
   "outputs": [],
   "source": [
    "fault1.reset_values()\n",
    "fault1.inject_offset()\n",
    "fault1.plot_compare_values()"
   ]
  },
  {
   "cell_type": "code",
   "execution_count": null,
   "metadata": {},
   "outputs": [],
   "source": [
    "# specify offset_rate\n",
    "fault1.reset_values()\n",
    "fault1.inject_offset(offset_rate=0.1)\n",
    "fault1.plot_compare_values()"
   ]
  },
  {
   "cell_type": "markdown",
   "metadata": {},
   "source": [
    "## Inject NaN"
   ]
  },
  {
   "cell_type": "code",
   "execution_count": null,
   "metadata": {},
   "outputs": [],
   "source": [
    "fault1.reset_values()\n",
    "fault1.inject_nan()\n",
    "fault1.plot_compare_values()"
   ]
  },
  {
   "cell_type": "markdown",
   "metadata": {},
   "source": [
    "## Inject Stuck Value"
   ]
  },
  {
   "cell_type": "code",
   "execution_count": null,
   "metadata": {},
   "outputs": [],
   "source": [
    "# random stuck value\n",
    "fault1.reset_values()\n",
    "fault1.inject_stuck_value()\n",
    "fault1.plot_compare_values()"
   ]
  },
  {
   "cell_type": "code",
   "execution_count": null,
   "metadata": {},
   "outputs": [],
   "source": [
    "# specified stuck value\n",
    "fault1.reset_values()\n",
    "fault1.inject_stuck_value(stuck_val = 0.8)\n",
    "fault1.plot_compare_values()"
   ]
  },
  {
   "cell_type": "markdown",
   "metadata": {},
   "source": [
    "## Noise: Gaussian"
   ]
  },
  {
   "cell_type": "code",
   "execution_count": null,
   "metadata": {},
   "outputs": [],
   "source": [
    "fault1.reset_values()\n",
    "fault1.inject_noise(noise_type='gaussian')\n",
    "fault1.plot_compare_values()"
   ]
  },
  {
   "cell_type": "code",
   "execution_count": null,
   "metadata": {},
   "outputs": [],
   "source": [
    "# Specify params\n",
    "mean_val = 0\n",
    "std = 0.5\n",
    "fault1.reset_values()\n",
    "fault1.inject_noise(noise_type='gaussian', params=[mean_val, std])\n",
    "fault1.plot_compare_values()"
   ]
  },
  {
   "cell_type": "markdown",
   "metadata": {},
   "source": [
    "## Noise: Uniform"
   ]
  },
  {
   "cell_type": "code",
   "execution_count": null,
   "metadata": {},
   "outputs": [],
   "source": [
    "fault1.reset_values()\n",
    "fault1.inject_noise(noise_type='uniform')\n",
    "fault1.plot_compare_values()"
   ]
  },
  {
   "cell_type": "code",
   "execution_count": null,
   "metadata": {},
   "outputs": [],
   "source": [
    "# specify vals\n",
    "min_val = 0.25\n",
    "max_val = 0.75\n",
    "fault1.reset_values()\n",
    "fault1.inject_noise(noise_type='uniform', params=[min_val, max_val])\n",
    "fault1.plot_compare_values()"
   ]
  },
  {
   "cell_type": "markdown",
   "metadata": {},
   "source": [
    "## Working with a DataFame"
   ]
  },
  {
   "cell_type": "code",
   "execution_count": null,
   "metadata": {},
   "outputs": [],
   "source": [
    "# generate synthetic data\n",
    "gen_dict = {}\n",
    "def gen_values(rand_max, rand_min, size):\n",
    "    gen = gd.DataGen(rand_max, rand_min, size)\n",
    "    gen.random_gen()\n",
    "    return gen.values\n",
    "\n",
    "gen_dict['x'] = gen_values(0.52, 0.48, 1000)\n",
    "gen_dict['y'] = gen_values(8100, 7900, 1000)\n",
    "gen_dict['z'] = gen_values(1.1, 0.9, 1000)\n",
    "\n",
    "df = pd.DataFrame(gen_dict)"
   ]
  },
  {
   "cell_type": "code",
   "execution_count": null,
   "metadata": {},
   "outputs": [],
   "source": [
    "# define columns that you would like to inject a fault into\n",
    "col_lst = df.columns\n",
    "start_val = 250\n",
    "stop_val = 750\n",
    "inject_fault_df = df_injector.DataFrameFaultInjection(df, column_names=col_lst, start_val=start_val, stop_val=stop_val)\n",
    "fault_dict = inject_fault_df.inject_fault()\n",
    "\n",
    "# visualize the starting values for the selected columns\n",
    "for key in fault_dict.keys():\n",
    "    print(key)\n",
    "    fault_dict[key].plot_compare_values()"
   ]
  },
  {
   "cell_type": "code",
   "execution_count": null,
   "metadata": {},
   "outputs": [],
   "source": [
    "# inject fault and visualize\n",
    "for key in fault_dict.keys():\n",
    "    print(key)\n",
    "    fault_dict[key].inject_offset()\n",
    "    fault_dict[key].plot_compare_values()"
   ]
  },
  {
   "cell_type": "code",
   "execution_count": null,
   "metadata": {},
   "outputs": [],
   "source": [
    "# update df with faulty data\n",
    "fault_df = inject_fault_df.update_df()\n",
    "fault_df.head()"
   ]
  }
 ],
 "metadata": {
  "kernelspec": {
   "display_name": "fault_injector",
   "language": "python",
   "name": "python3"
  },
  "language_info": {
   "codemirror_mode": {
    "name": "ipython",
    "version": 3
   },
   "file_extension": ".py",
   "mimetype": "text/x-python",
   "name": "python",
   "nbconvert_exporter": "python",
   "pygments_lexer": "ipython3",
   "version": "3.11.11"
  }
 },
 "nbformat": 4,
 "nbformat_minor": 2
}
